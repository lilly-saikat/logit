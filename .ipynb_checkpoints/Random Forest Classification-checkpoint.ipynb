{
 "cells": [
  {
   "cell_type": "code",
   "execution_count": 1,
   "metadata": {
    "collapsed": true
   },
   "outputs": [],
   "source": [
    "%matplotlib inline"
   ]
  },
  {
   "cell_type": "code",
   "execution_count": 46,
   "metadata": {
    "collapsed": true
   },
   "outputs": [],
   "source": [
    "from sklearn.datasets import make_classification\n",
    "import numpy as np\n",
    "import pandas as po\n",
    "import matplotlib.pyplot as plt\n",
    "from os import system\n",
    "import seaborn\n",
    "# For model validation and output summary\n",
    "from sklearn.metrics import confusion_matrix, roc_curve, auc\n",
    "# For CHAID\n",
    "from sklearn.model_selection import cross_val_score\n",
    "from sklearn import tree"
   ]
  },
  {
   "cell_type": "code",
   "execution_count": 3,
   "metadata": {
    "collapsed": true
   },
   "outputs": [],
   "source": [
    "X, y = make_classification(n_samples=1000, n_features=20, n_informative=10)"
   ]
  },
  {
   "cell_type": "code",
   "execution_count": 4,
   "metadata": {
    "collapsed": true,
    "scrolled": true
   },
   "outputs": [],
   "source": [
    "data = po.DataFrame(np.c_[y, X], columns=['var_'+str(col) for col in range(21)])"
   ]
  },
  {
   "cell_type": "code",
   "execution_count": 18,
   "metadata": {},
   "outputs": [
    {
     "data": {
      "text/plain": [
       "array([[-0.37157539, -0.70337849, -2.23843733, ..., -0.80054048,\n",
       "        -1.00550152, -1.24319397],\n",
       "       [ 0.17608552, -1.2815431 ,  1.01002519, ...,  0.35896438,\n",
       "        -0.79852591, -0.89243464],\n",
       "       [-1.0876006 , -0.08836988, -3.00754654, ..., -1.13795885,\n",
       "        -0.1575437 , -1.52691108],\n",
       "       ..., \n",
       "       [-0.28975769,  0.52772604,  2.82557015, ..., -2.24249936,\n",
       "         0.21385958,  0.1697526 ],\n",
       "       [-0.20657795, -1.93612241, -1.2361126 , ..., -0.22876658,\n",
       "        -0.5731015 , -0.26018754],\n",
       "       [ 1.38752021,  1.45626003,  0.22385658, ..., -3.34484375,\n",
       "        -2.62424164,  0.25840064]])"
      ]
     },
     "execution_count": 18,
     "metadata": {},
     "output_type": "execute_result"
    }
   ],
   "source": [
    "data.head()"
   ]
  },
  {
   "cell_type": "code",
   "execution_count": 6,
   "metadata": {},
   "outputs": [
    {
     "data": {
      "text/html": [
       "<div>\n",
       "<style>\n",
       "    .dataframe thead tr:only-child th {\n",
       "        text-align: right;\n",
       "    }\n",
       "\n",
       "    .dataframe thead th {\n",
       "        text-align: left;\n",
       "    }\n",
       "\n",
       "    .dataframe tbody tr th {\n",
       "        vertical-align: top;\n",
       "    }\n",
       "</style>\n",
       "<table border=\"1\" class=\"dataframe\">\n",
       "  <thead>\n",
       "    <tr style=\"text-align: right;\">\n",
       "      <th></th>\n",
       "      <th>var_0</th>\n",
       "      <th>var_1</th>\n",
       "      <th>var_2</th>\n",
       "      <th>var_3</th>\n",
       "      <th>var_4</th>\n",
       "      <th>var_5</th>\n",
       "      <th>var_6</th>\n",
       "      <th>var_7</th>\n",
       "      <th>var_8</th>\n",
       "      <th>var_9</th>\n",
       "      <th>...</th>\n",
       "      <th>var_11</th>\n",
       "      <th>var_12</th>\n",
       "      <th>var_13</th>\n",
       "      <th>var_14</th>\n",
       "      <th>var_15</th>\n",
       "      <th>var_16</th>\n",
       "      <th>var_17</th>\n",
       "      <th>var_18</th>\n",
       "      <th>var_19</th>\n",
       "      <th>var_20</th>\n",
       "    </tr>\n",
       "  </thead>\n",
       "  <tbody>\n",
       "    <tr>\n",
       "      <th>count</th>\n",
       "      <td>1000.00000</td>\n",
       "      <td>1000.000000</td>\n",
       "      <td>1000.000000</td>\n",
       "      <td>1000.000000</td>\n",
       "      <td>1000.000000</td>\n",
       "      <td>1000.000000</td>\n",
       "      <td>1000.000000</td>\n",
       "      <td>1000.000000</td>\n",
       "      <td>1000.000000</td>\n",
       "      <td>1000.000000</td>\n",
       "      <td>...</td>\n",
       "      <td>1000.000000</td>\n",
       "      <td>1000.000000</td>\n",
       "      <td>1000.000000</td>\n",
       "      <td>1000.000000</td>\n",
       "      <td>1000.000000</td>\n",
       "      <td>1000.000000</td>\n",
       "      <td>1000.000000</td>\n",
       "      <td>1000.000000</td>\n",
       "      <td>1000.000000</td>\n",
       "      <td>1000.000000</td>\n",
       "    </tr>\n",
       "    <tr>\n",
       "      <th>mean</th>\n",
       "      <td>0.50000</td>\n",
       "      <td>-0.000984</td>\n",
       "      <td>-1.109814</td>\n",
       "      <td>0.490153</td>\n",
       "      <td>0.063456</td>\n",
       "      <td>-0.454847</td>\n",
       "      <td>-0.029480</td>\n",
       "      <td>0.035670</td>\n",
       "      <td>0.659422</td>\n",
       "      <td>-0.021842</td>\n",
       "      <td>...</td>\n",
       "      <td>0.036043</td>\n",
       "      <td>-1.619439</td>\n",
       "      <td>-0.915703</td>\n",
       "      <td>2.071521</td>\n",
       "      <td>-0.540900</td>\n",
       "      <td>-0.561226</td>\n",
       "      <td>0.017878</td>\n",
       "      <td>0.012849</td>\n",
       "      <td>-1.045189</td>\n",
       "      <td>-0.013333</td>\n",
       "    </tr>\n",
       "    <tr>\n",
       "      <th>std</th>\n",
       "      <td>0.50025</td>\n",
       "      <td>0.989889</td>\n",
       "      <td>1.934146</td>\n",
       "      <td>2.005425</td>\n",
       "      <td>0.979406</td>\n",
       "      <td>2.116120</td>\n",
       "      <td>0.962623</td>\n",
       "      <td>1.031772</td>\n",
       "      <td>1.860170</td>\n",
       "      <td>0.968406</td>\n",
       "      <td>...</td>\n",
       "      <td>1.982305</td>\n",
       "      <td>2.984627</td>\n",
       "      <td>1.791097</td>\n",
       "      <td>3.235475</td>\n",
       "      <td>1.820733</td>\n",
       "      <td>1.786381</td>\n",
       "      <td>0.994020</td>\n",
       "      <td>2.330434</td>\n",
       "      <td>1.581277</td>\n",
       "      <td>0.964155</td>\n",
       "    </tr>\n",
       "    <tr>\n",
       "      <th>min</th>\n",
       "      <td>0.00000</td>\n",
       "      <td>-2.652809</td>\n",
       "      <td>-8.418874</td>\n",
       "      <td>-5.726555</td>\n",
       "      <td>-3.755716</td>\n",
       "      <td>-7.433385</td>\n",
       "      <td>-3.079762</td>\n",
       "      <td>-3.088329</td>\n",
       "      <td>-6.141195</td>\n",
       "      <td>-3.030867</td>\n",
       "      <td>...</td>\n",
       "      <td>-7.156723</td>\n",
       "      <td>-16.160266</td>\n",
       "      <td>-6.157221</td>\n",
       "      <td>-7.949803</td>\n",
       "      <td>-6.048693</td>\n",
       "      <td>-5.710712</td>\n",
       "      <td>-3.357261</td>\n",
       "      <td>-7.295183</td>\n",
       "      <td>-6.282714</td>\n",
       "      <td>-3.032693</td>\n",
       "    </tr>\n",
       "    <tr>\n",
       "      <th>25%</th>\n",
       "      <td>0.00000</td>\n",
       "      <td>-0.694303</td>\n",
       "      <td>-2.241070</td>\n",
       "      <td>-0.942246</td>\n",
       "      <td>-0.571582</td>\n",
       "      <td>-1.845180</td>\n",
       "      <td>-0.686755</td>\n",
       "      <td>-0.585394</td>\n",
       "      <td>-0.509889</td>\n",
       "      <td>-0.670063</td>\n",
       "      <td>...</td>\n",
       "      <td>-1.418942</td>\n",
       "      <td>-3.383362</td>\n",
       "      <td>-2.088095</td>\n",
       "      <td>0.029139</td>\n",
       "      <td>-1.895533</td>\n",
       "      <td>-1.792626</td>\n",
       "      <td>-0.653849</td>\n",
       "      <td>-1.505973</td>\n",
       "      <td>-2.117954</td>\n",
       "      <td>-0.662304</td>\n",
       "    </tr>\n",
       "    <tr>\n",
       "      <th>50%</th>\n",
       "      <td>0.50000</td>\n",
       "      <td>-0.009867</td>\n",
       "      <td>-1.101449</td>\n",
       "      <td>0.617368</td>\n",
       "      <td>0.069598</td>\n",
       "      <td>-0.373036</td>\n",
       "      <td>-0.010216</td>\n",
       "      <td>0.051807</td>\n",
       "      <td>0.718789</td>\n",
       "      <td>0.016636</td>\n",
       "      <td>...</td>\n",
       "      <td>0.026101</td>\n",
       "      <td>-1.419234</td>\n",
       "      <td>-0.900370</td>\n",
       "      <td>1.864989</td>\n",
       "      <td>-0.594139</td>\n",
       "      <td>-0.598424</td>\n",
       "      <td>-0.010413</td>\n",
       "      <td>-0.036469</td>\n",
       "      <td>-1.026733</td>\n",
       "      <td>-0.015051</td>\n",
       "    </tr>\n",
       "    <tr>\n",
       "      <th>75%</th>\n",
       "      <td>1.00000</td>\n",
       "      <td>0.693841</td>\n",
       "      <td>0.035530</td>\n",
       "      <td>1.954592</td>\n",
       "      <td>0.689954</td>\n",
       "      <td>0.981212</td>\n",
       "      <td>0.621437</td>\n",
       "      <td>0.719822</td>\n",
       "      <td>1.895104</td>\n",
       "      <td>0.627626</td>\n",
       "      <td>...</td>\n",
       "      <td>1.453144</td>\n",
       "      <td>0.446503</td>\n",
       "      <td>0.252585</td>\n",
       "      <td>4.146323</td>\n",
       "      <td>0.665777</td>\n",
       "      <td>0.595930</td>\n",
       "      <td>0.660395</td>\n",
       "      <td>1.622836</td>\n",
       "      <td>0.006705</td>\n",
       "      <td>0.612277</td>\n",
       "    </tr>\n",
       "    <tr>\n",
       "      <th>max</th>\n",
       "      <td>1.00000</td>\n",
       "      <td>2.864115</td>\n",
       "      <td>6.908846</td>\n",
       "      <td>6.922735</td>\n",
       "      <td>3.169434</td>\n",
       "      <td>6.155143</td>\n",
       "      <td>3.119480</td>\n",
       "      <td>3.146769</td>\n",
       "      <td>6.279870</td>\n",
       "      <td>3.018822</td>\n",
       "      <td>...</td>\n",
       "      <td>6.132562</td>\n",
       "      <td>7.139589</td>\n",
       "      <td>5.014744</td>\n",
       "      <td>13.846913</td>\n",
       "      <td>5.114210</td>\n",
       "      <td>5.269308</td>\n",
       "      <td>3.895631</td>\n",
       "      <td>6.405400</td>\n",
       "      <td>3.666015</td>\n",
       "      <td>3.040945</td>\n",
       "    </tr>\n",
       "  </tbody>\n",
       "</table>\n",
       "<p>8 rows × 21 columns</p>\n",
       "</div>"
      ],
      "text/plain": [
       "            var_0        var_1        var_2        var_3        var_4  \\\n",
       "count  1000.00000  1000.000000  1000.000000  1000.000000  1000.000000   \n",
       "mean      0.50000    -0.000984    -1.109814     0.490153     0.063456   \n",
       "std       0.50025     0.989889     1.934146     2.005425     0.979406   \n",
       "min       0.00000    -2.652809    -8.418874    -5.726555    -3.755716   \n",
       "25%       0.00000    -0.694303    -2.241070    -0.942246    -0.571582   \n",
       "50%       0.50000    -0.009867    -1.101449     0.617368     0.069598   \n",
       "75%       1.00000     0.693841     0.035530     1.954592     0.689954   \n",
       "max       1.00000     2.864115     6.908846     6.922735     3.169434   \n",
       "\n",
       "             var_5        var_6        var_7        var_8        var_9  \\\n",
       "count  1000.000000  1000.000000  1000.000000  1000.000000  1000.000000   \n",
       "mean     -0.454847    -0.029480     0.035670     0.659422    -0.021842   \n",
       "std       2.116120     0.962623     1.031772     1.860170     0.968406   \n",
       "min      -7.433385    -3.079762    -3.088329    -6.141195    -3.030867   \n",
       "25%      -1.845180    -0.686755    -0.585394    -0.509889    -0.670063   \n",
       "50%      -0.373036    -0.010216     0.051807     0.718789     0.016636   \n",
       "75%       0.981212     0.621437     0.719822     1.895104     0.627626   \n",
       "max       6.155143     3.119480     3.146769     6.279870     3.018822   \n",
       "\n",
       "          ...            var_11       var_12       var_13       var_14  \\\n",
       "count     ...       1000.000000  1000.000000  1000.000000  1000.000000   \n",
       "mean      ...          0.036043    -1.619439    -0.915703     2.071521   \n",
       "std       ...          1.982305     2.984627     1.791097     3.235475   \n",
       "min       ...         -7.156723   -16.160266    -6.157221    -7.949803   \n",
       "25%       ...         -1.418942    -3.383362    -2.088095     0.029139   \n",
       "50%       ...          0.026101    -1.419234    -0.900370     1.864989   \n",
       "75%       ...          1.453144     0.446503     0.252585     4.146323   \n",
       "max       ...          6.132562     7.139589     5.014744    13.846913   \n",
       "\n",
       "            var_15       var_16       var_17       var_18       var_19  \\\n",
       "count  1000.000000  1000.000000  1000.000000  1000.000000  1000.000000   \n",
       "mean     -0.540900    -0.561226     0.017878     0.012849    -1.045189   \n",
       "std       1.820733     1.786381     0.994020     2.330434     1.581277   \n",
       "min      -6.048693    -5.710712    -3.357261    -7.295183    -6.282714   \n",
       "25%      -1.895533    -1.792626    -0.653849    -1.505973    -2.117954   \n",
       "50%      -0.594139    -0.598424    -0.010413    -0.036469    -1.026733   \n",
       "75%       0.665777     0.595930     0.660395     1.622836     0.006705   \n",
       "max       5.114210     5.269308     3.895631     6.405400     3.666015   \n",
       "\n",
       "            var_20  \n",
       "count  1000.000000  \n",
       "mean     -0.013333  \n",
       "std       0.964155  \n",
       "min      -3.032693  \n",
       "25%      -0.662304  \n",
       "50%      -0.015051  \n",
       "75%       0.612277  \n",
       "max       3.040945  \n",
       "\n",
       "[8 rows x 21 columns]"
      ]
     },
     "execution_count": 6,
     "metadata": {},
     "output_type": "execute_result"
    }
   ],
   "source": [
    "data.describe()"
   ]
  },
  {
   "cell_type": "code",
   "execution_count": 22,
   "metadata": {
    "collapsed": true,
    "scrolled": true
   },
   "outputs": [],
   "source": [
    "data_new = data.copy()\n",
    "data_new['is_train'] = np.random.random(size=data_new.shape[0]) < 0.8\n",
    "train = data_new[data_new['is_train']==True]\n",
    "test = data_new[data_new['is_train']==False]"
   ]
  },
  {
   "cell_type": "code",
   "execution_count": 24,
   "metadata": {
    "collapsed": true
   },
   "outputs": [],
   "source": [
    "# Declare the model to be executed\n",
    "clf = DecisionTreeClassifier(random_state = 0)"
   ]
  },
  {
   "cell_type": "code",
   "execution_count": 25,
   "metadata": {
    "scrolled": true
   },
   "outputs": [
    {
     "data": {
      "text/plain": [
       "DecisionTreeClassifier(class_weight=None, criterion='gini', max_depth=None,\n",
       "            max_features=None, max_leaf_nodes=None,\n",
       "            min_impurity_split=1e-07, min_samples_leaf=1,\n",
       "            min_samples_split=2, min_weight_fraction_leaf=0.0,\n",
       "            presort=False, random_state=0, splitter='best')"
      ]
     },
     "execution_count": 25,
     "metadata": {},
     "output_type": "execute_result"
    }
   ],
   "source": [
    "# Execute models in Sklearn under Fit(x,y)\n",
    "clf.fit(train.iloc[:,1:],train.iloc[:,0])"
   ]
  },
  {
   "cell_type": "code",
   "execution_count": 26,
   "metadata": {
    "collapsed": true
   },
   "outputs": [],
   "source": [
    "y_pred = clf.predict_proba(test.iloc[:,1:])[:, 1]\n",
    "y_pred1 = clf.predict(test.iloc[:,1:])"
   ]
  },
  {
   "cell_type": "code",
   "execution_count": 27,
   "metadata": {},
   "outputs": [
    {
     "data": {
      "text/plain": [
       "array([[61, 24],\n",
       "       [45, 76]])"
      ]
     },
     "execution_count": 27,
     "metadata": {},
     "output_type": "execute_result"
    }
   ],
   "source": [
    "confusion_matrix(test['var_0'], y_pred1)"
   ]
  },
  {
   "cell_type": "code",
   "execution_count": 32,
   "metadata": {
    "collapsed": true
   },
   "outputs": [],
   "source": [
    "fpr, tpr, _ = roc_curve(test['var_0'], y_pred)\n",
    "roc_auc = auc(fpr, tpr)"
   ]
  },
  {
   "cell_type": "code",
   "execution_count": 33,
   "metadata": {},
   "outputs": [
    {
     "data": {
      "image/png": "[encoded data removed]",
      "text/plain": [
       "<matplotlib.figure.Figure at 0x22af0cace10>"
      ]
     },
     "metadata": {},
     "output_type": "display_data"
    }
   ],
   "source": [
    "plt.figure()\n",
    "lw = 2\n",
    "plt.plot(fpr, tpr, color='darkorange',\n",
    "         lw=lw, label='ROC curve (area = %0.2f)' % roc_auc)\n",
    "plt.plot([0, 1], [0, 1], color='navy', lw=lw, linestyle='--')\n",
    "plt.xlim([0.0, 1.0])\n",
    "plt.ylim([0.0, 1.0])\n",
    "plt.xlabel('False Positive Rate')\n",
    "plt.ylabel('True Positive Rate')\n",
    "plt.title('Receiver operating characteristic example')\n",
    "plt.legend(loc=\"lower right\")\n",
    "plt.show()"
   ]
  },
  {
   "cell_type": "code",
   "execution_count": 42,
   "metadata": {},
   "outputs": [
    {
     "data": {
      "text/plain": [
       "<matplotlib.collections.PathCollection at 0x22af0eaf358>"
      ]
     },
     "execution_count": 42,
     "metadata": {},
     "output_type": "execute_result"
    },
    {
     "data": {
      "image/png": "[encoded data removed]",
      "text/plain": [
       "<matplotlib.figure.Figure at 0x22af47b9da0>"
      ]
     },
     "metadata": {},
     "output_type": "display_data"
    }
   ],
   "source": [
    "clf1 = DecisionTreeClassifier(random_state = 0)\n",
    "clf1.fit(train.iloc[:,[8,15]],train.iloc[:,0])\n",
    "# Set min and max values and give it some padding\n",
    "x_min, x_max = test['var_8'].min() - .5, test['var_8'].max() + .5\n",
    "y_min, y_max = test['var_15'].min() - .5, test['var_15'].max() + .5\n",
    "h = 0.01\n",
    "# Generate a grid of points with distance h between them\n",
    "xx, yy = np.meshgrid(np.arange(x_min, x_max, h), np.arange(y_min, y_max, h))\n",
    "# Predict the function value for the whole gid\n",
    "Z = clf1.predict(np.c_[xx.ravel(), yy.ravel()])\n",
    "Z = Z.reshape(xx.shape)\n",
    "# Plot the contour and training examples\n",
    "plt.contourf(xx, yy, np.round(Z), cmap=plt.cm.copper)\n",
    "plt.scatter(X[:, 0], X[:, 1], c=data['var_0'], cmap=plt.cm.coolwarm)"
   ]
  },
  {
   "cell_type": "code",
   "execution_count": 57,
   "metadata": {},
   "outputs": [
    {
     "data": {
      "text/plain": [
       "1"
      ]
     },
     "execution_count": 57,
     "metadata": {},
     "output_type": "execute_result"
    }
   ],
   "source": [
    "dotfile = open(\"E:/Learning/logit/dtree2.dot\", 'w')\n",
    "tree.export_graphviz(clf, out_file = dotfile, feature_names = data.columns)\n",
    "dotfile.close()\n",
    "system(\"dot -Tpng E:/Learning/logit/dtree2.dot -o E:/Learning/logit/dtree2.png\")"
   ]
  },
  {
   "cell_type": "code",
   "execution_count": 2,
   "metadata": {},
   "outputs": [
    {
     "ename": "ModuleNotFoundError",
     "evalue": "No module named 'keras'",
     "output_type": "error",
     "traceback": [
      "\u001b[1;31m---------------------------------------------------------------------------\u001b[0m",
      "\u001b[1;31mModuleNotFoundError\u001b[0m                       Traceback (most recent call last)",
      "\u001b[1;32m<ipython-input-2-83616047c457>\u001b[0m in \u001b[0;36m<module>\u001b[1;34m()\u001b[0m\n\u001b[0;32m      1\u001b[0m \u001b[1;31m# aDD tERMINAL nODE FUNCTION\u001b[0m\u001b[1;33m\u001b[0m\u001b[1;33m\u001b[0m\u001b[0m\n\u001b[1;32m----> 2\u001b[1;33m \u001b[1;32mimport\u001b[0m \u001b[0mkeras\u001b[0m\u001b[1;33m\u001b[0m\u001b[0m\n\u001b[0m",
      "\u001b[1;31mModuleNotFoundError\u001b[0m: No module named 'keras'"
     ]
    }
   ],
   "source": [
    "# aDD tERMINAL nODE FUNCTION"
   ]
  },
  {
   "cell_type": "code",
   "execution_count": null,
   "metadata": {
    "collapsed": true
   },
   "outputs": [],
   "source": []
  }
 ],
 "metadata": {
  "kernelspec": {
   "display_name": "Python 3",
   "language": "python",
   "name": "python3"
  },
  "language_info": {
   "codemirror_mode": {
    "name": "ipython",
    "version": 3
   },
   "file_extension": ".py",
   "mimetype": "text/x-python",
   "name": "python",
   "nbconvert_exporter": "python",
   "pygments_lexer": "ipython3",
   "version": "3.6.1"
  }
 },
 "nbformat": 4,
 "nbformat_minor": 2
}
